{
  "nbformat": 4,
  "nbformat_minor": 0,
  "metadata": {
    "colab": {
      "provenance": [],
      "toc_visible": true
    },
    "kernelspec": {
      "name": "python3",
      "display_name": "Python 3"
    },
    "language_info": {
      "name": "python"
    }
  },
  "cells": [
    {
      "cell_type": "markdown",
      "source": [
        "Before you start - you need 2 things:\n",
        "1. OpenAI API Key\n",
        "2. App Store Connect API Key (including .p8 file)\n",
        "\n",
        "-----\n",
        "To start:\n",
        "1. Click on Runtime -> Run All to start\n",
        "2. Enter all information (OpenAI API Key, issuer ID etc.)\n",
        "----\n",
        "p.s. All information is stored only in your Google Collab."
      ],
      "metadata": {
        "id": "0FeD91h24f-2"
      }
    },
    {
      "cell_type": "code",
      "execution_count": null,
      "metadata": {
        "id": "bgMvkrrneZfs"
      },
      "outputs": [],
      "source": [
        "from google.colab import files"
      ]
    },
    {
      "cell_type": "markdown",
      "source": [
        "## 0. API Keys\n",
        "\n",
        "- You need OpenAI and Appstore Connect API Keys\n",
        "- Tutorial how to geth them is available here <github repo>\n",
        "- Keys are not store anywhere except your Google Colab here"
      ],
      "metadata": {
        "id": "fBM2TBj2eak4"
      }
    },
    {
      "cell_type": "code",
      "source": [
        "# Initialize the OpenAI API with your API key\n",
        "print(\"Please enter the required information:\")\n",
        "\n",
        "api_key = input(\"Enter OPENAI Key: \")\n",
        "\n",
        "# APPSTORE Details\n",
        "ISSUER_ID = input(\"Enter ISSUER_ID: \")\n",
        "KEY_ID = input(\"Enter KEY_ID: \")\n",
        "APP_ID = input(\"Enter APP_ID: \")\n",
        "NEW_VERSION_STRING = input(\"Enter NEW_VERSION_STRING: \")\n",
        "short_desc = input(\"Short Description for Whats New: \")\n",
        "\n",
        "# To confirm the entered details (Optional)\n",
        "print(\"\\nYou entered:\")\n",
        "print(f\"OPENAI Key: {api_key}\")\n",
        "print(f\"ISSUER_ID: {ISSUER_ID}\")\n",
        "print(f\"KEY_ID: {KEY_ID}\")\n",
        "print(f\"APP_ID: {APP_ID}\")\n",
        "print(f\"NEW_VERSION_STRING: {NEW_VERSION_STRING}\")\n",
        "print(f\"Short Description for Whats New: {short_desc}\")"
      ],
      "metadata": {
        "id": "6vMLq0KFeocg"
      },
      "execution_count": null,
      "outputs": []
    },
    {
      "cell_type": "markdown",
      "source": [
        "## Upload your .p8 file from App Store Connect below"
      ],
      "metadata": {
        "id": "g2S8GFGwf_ES"
      }
    },
    {
      "cell_type": "code",
      "source": [
        "uploaded = files.upload()\n",
        "\n",
        "for fn in uploaded.keys():\n",
        "    print(f'User uploaded file \"{fn}\" with length {len(uploaded[fn])} bytes')\n",
        "    SECRET_FILE_PATH = fn"
      ],
      "metadata": {
        "id": "vO8UxWfPe1hS"
      },
      "execution_count": null,
      "outputs": []
    },
    {
      "cell_type": "markdown",
      "source": [
        "## 1. Generate What's New\n",
        "\n",
        "First, we need to generate what's new for our app"
      ],
      "metadata": {
        "id": "TP6VKuJvlvn_"
      }
    },
    {
      "cell_type": "code",
      "source": [
        "import requests\n",
        "import json\n",
        "\n",
        "\n",
        "def generate_whats_new_description(short_description):\n",
        "    \"\"\"\n",
        "    Generate a \"What's New\" description for App Store from a short description.\n",
        "\n",
        "    Parameters:\n",
        "    - short_description (str): A brief description of the app's new feature or update.\n",
        "\n",
        "    Returns:\n",
        "    - str: Generated \"What's New\" description.\n",
        "    \"\"\"\n",
        "    url = 'https://api.openai.com/v1/chat/completions'\n",
        "\n",
        "    headers = {\n",
        "        'Content-Type': 'application/json',\n",
        "        'Authorization': f'Bearer {api_key}'\n",
        "    }\n",
        "\n",
        "    data = {\n",
        "        \"model\": \"gpt-3.5-turbo\",\n",
        "        \"messages\": [{\"role\": \"user\", \"content\": f\"Given the short description: '{short_description}', create a 'What's New' section for the App Store. Make it juicy. Do not use emojis\"}],\n",
        "        \"temperature\": 0.7\n",
        "    }\n",
        "\n",
        "    response = requests.post(url, headers=headers, data=json.dumps(data))\n",
        "\n",
        "    if response.status_code == 200:\n",
        "        result = response.json()\n",
        "        generated_description = result['choices'][0]['message']['content'].strip()\n",
        "        return generated_description\n",
        "    else:\n",
        "        print(f\"Request failed with status code {response.status_code}: {response.text}\")\n",
        "        return None\n",
        "\n",
        "\n",
        "# Example usage\n",
        "whats_new_desc_eng = generate_whats_new_description(short_desc)\n",
        "print(whats_new_desc_eng)"
      ],
      "metadata": {
        "id": "iqgKzvRvlv65"
      },
      "execution_count": null,
      "outputs": []
    },
    {
      "cell_type": "markdown",
      "source": [
        "Function below will help with translation if you have more than one languge"
      ],
      "metadata": {
        "id": "qk8k6Z2dl_1d"
      }
    },
    {
      "cell_type": "code",
      "source": [
        "def translate_description(locale, short_description):\n",
        "    \"\"\"\n",
        "    Translate a short description to the given locale using ChatGPT.\n",
        "\n",
        "    Parameters:\n",
        "    - locale (str): The target language/locale (e.g., 'fr', 'es', 'de').\n",
        "    - short_description (str): The description to translate.\n",
        "\n",
        "    Returns:\n",
        "    - str: Translated description, or None if translation fails.\n",
        "    \"\"\"\n",
        "    url = 'https://api.openai.com/v1/chat/completions'\n",
        "\n",
        "    headers = {\n",
        "        'Content-Type': 'application/json',\n",
        "        'Authorization': f'Bearer {api_key}'\n",
        "    }\n",
        "\n",
        "    data = {\n",
        "        \"model\": \"gpt-3.5-turbo\",\n",
        "        \"messages\": [{\"role\": \"user\", \"content\": f\"Translate the following text to {locale}: '{short_description}'\"}],\n",
        "        \"temperature\": 0.7\n",
        "    }\n",
        "\n",
        "    response = requests.post(url, headers=headers, data=json.dumps(data))\n",
        "\n",
        "    if response.status_code == 200:\n",
        "        result = response.json()\n",
        "        translated_description = result['choices'][0]['message']['content'].strip()\n",
        "        return translated_description\n",
        "    else:\n",
        "        print(f\"Request failed with status code {response.status_code}: {response.text}\")\n",
        "        return None"
      ],
      "metadata": {
        "id": "dAArQlUsmAIT"
      },
      "execution_count": null,
      "outputs": []
    },
    {
      "cell_type": "markdown",
      "source": [
        "# 2. Upload to App Store"
      ],
      "metadata": {
        "id": "Z5KHZP2NmEx4"
      }
    },
    {
      "cell_type": "markdown",
      "source": [
        "## 2.1 Create New App Store Version"
      ],
      "metadata": {
        "id": "lHAUU_OKmGeq"
      }
    },
    {
      "cell_type": "code",
      "source": [
        "import requests\n",
        "import jwt\n",
        "import time\n",
        "\n",
        "# Constants\n",
        "BASE_URL = \"https://api.appstoreconnect.apple.com/v1/\"\n",
        "\n",
        "def load_secret_from_file():\n",
        "    \"\"\"Load the secret key content from a .p8 file.\"\"\"\n",
        "    with open(SECRET_FILE_PATH, 'r') as file:\n",
        "        return file.read()\n",
        "\n",
        "def create_token():\n",
        "    \"\"\"Generate JWT token for App Store Connect API.\"\"\"\n",
        "    secret_content = load_secret_from_file()\n",
        "    token = jwt.encode(\n",
        "        {\n",
        "            'iss': ISSUER_ID,\n",
        "            'exp': int(time.time()) + 1200,\n",
        "            'aud': 'appstoreconnect-v1'\n",
        "        },\n",
        "        secret_content,\n",
        "        algorithm='ES256',\n",
        "        headers={'kid': KEY_ID}\n",
        "    )\n",
        "    return token\n",
        "\n",
        "def create_new_app_version():\n",
        "    \"\"\"Create a new version for the app on App Store Connect.\"\"\"\n",
        "    token = create_token()\n",
        "    headers = {\n",
        "        'Authorization': f'Bearer {token}',\n",
        "        'Content-Type': 'application/json'\n",
        "    }\n",
        "\n",
        "    # API Endpoint to create a new app version\n",
        "    endpoint = BASE_URL + 'appStoreVersions'\n",
        "\n",
        "    # Payload with details for the new version\n",
        "    data = {\n",
        "        \"data\": {\n",
        "            \"type\": \"appStoreVersions\",\n",
        "            \"attributes\": {\n",
        "                \"versionString\": NEW_VERSION_STRING,\n",
        "                \"platform\": \"IOS\"\n",
        "            },\n",
        "            \"relationships\": {\n",
        "                \"app\": {\n",
        "                    \"data\": {\n",
        "                        \"type\": \"apps\",\n",
        "                        \"id\": APP_ID\n",
        "                    }\n",
        "                }\n",
        "            }\n",
        "        }\n",
        "    }\n",
        "\n",
        "    response = requests.post(endpoint, headers=headers, json=data)\n",
        "\n",
        "    if response.status_code == 201:\n",
        "        version_id = response.json()['data']['id']\n",
        "        print(\"Successfully created new app version: \", NEW_VERSION_STRING)\n",
        "        print(\"Version ID of created app version: \", version_id)\n",
        "        return version_id\n",
        "    else:\n",
        "        print(\"Failed to create new app version. Status Code:\", response.status_code)\n",
        "        print(response.text)\n",
        "        return None"
      ],
      "metadata": {
        "id": "nGMAHDQMmGvO"
      },
      "execution_count": null,
      "outputs": []
    },
    {
      "cell_type": "code",
      "source": [
        "def get_current_version():\n",
        "    token = create_token()\n",
        "    headers = {\n",
        "        'Authorization': f'Bearer {token}'\n",
        "    }\n",
        "    url = f\"https://api.appstoreconnect.apple.com/v1/apps/{APP_ID}/appStoreVersions\"\n",
        "    response = requests.get(url, headers=headers)\n",
        "    response_data = response.json()\n",
        "\n",
        "    print(response_data)\n",
        "\n",
        "    # Extracting the version from the response\n",
        "    if 'data' in response_data and len(response_data['data']) > 0:\n",
        "        version = response_data['data'][0]['attributes']['versionString']\n",
        "        return version\n",
        "    else:\n",
        "        return None\n",
        "\n",
        "current_version = get_current_version()\n",
        "print(current_version)"
      ],
      "metadata": {
        "id": "fk6FTEdZmIO3"
      },
      "execution_count": null,
      "outputs": []
    },
    {
      "cell_type": "code",
      "source": [
        "version_id = create_new_app_version()"
      ],
      "metadata": {
        "id": "7LvtfgdFmJZa"
      },
      "execution_count": null,
      "outputs": []
    },
    {
      "cell_type": "markdown",
      "source": [
        "## 2.2 Get all available languages from App Store Connect"
      ],
      "metadata": {
        "id": "K9eWSKClmP98"
      }
    },
    {
      "cell_type": "code",
      "source": [
        "def get_version_localizations(version_id):\n",
        "    \"\"\"Fetch the list of existing localizations for the given app version ID.\"\"\"\n",
        "    token = create_token()\n",
        "    headers = {\n",
        "        'Authorization': f'Bearer {token}',\n",
        "        'Content-Type': 'application/json'\n",
        "    }\n",
        "\n",
        "    endpoint = BASE_URL + f'appStoreVersions/{version_id}/appStoreVersionLocalizations'\n",
        "\n",
        "    response = requests.get(endpoint, headers=headers)\n",
        "\n",
        "    print(response.json())\n",
        "\n",
        "    if response.status_code == 200:\n",
        "        localizations = response.json()['data']\n",
        "        return [localization['id'] for localization in localizations], [localization['attributes']['locale'] for localization in localizations]\n",
        "    else:\n",
        "        print(f\"Failed to fetch localizations. Status Code:\", response.status_code)\n",
        "        print(response.text)\n",
        "        return []"
      ],
      "metadata": {
        "id": "TBZE_3h4mQKb"
      },
      "execution_count": null,
      "outputs": []
    },
    {
      "cell_type": "code",
      "source": [
        "locale_ids, locales = get_version_localizations(version_id)"
      ],
      "metadata": {
        "id": "wQML2SscmRxX"
      },
      "execution_count": null,
      "outputs": []
    },
    {
      "cell_type": "code",
      "source": [
        "print(\"Languages that you have: \", locales)"
      ],
      "metadata": {
        "id": "MvfWHdI5mizX"
      },
      "execution_count": null,
      "outputs": []
    },
    {
      "cell_type": "markdown",
      "source": [
        "## 2.3 Fill All Locales you have"
      ],
      "metadata": {
        "id": "n-1NjEb1ml1n"
      }
    },
    {
      "cell_type": "code",
      "source": [
        "import requests\n",
        "\n",
        "def update_whats_new(app_localization_id, new_text):\n",
        "    token = create_token()\n",
        "    headers = {\n",
        "        \"Authorization\": f\"Bearer {token}\",\n",
        "        \"Content-Type\": \"application/json\"\n",
        "    }\n",
        "\n",
        "    url = f\"https://api.appstoreconnect.apple.com/v1/appStoreVersionLocalizations/{app_localization_id}\"\n",
        "\n",
        "    data = {\n",
        "        \"data\": {\n",
        "            \"type\": \"appStoreVersionLocalizations\",\n",
        "            \"id\": app_localization_id,\n",
        "            \"attributes\": {\n",
        "                \"whatsNew\": new_text\n",
        "            }\n",
        "        }\n",
        "    }\n",
        "\n",
        "    response = requests.patch(url, headers=headers, json=data)\n",
        "\n",
        "    if 200 <= response.status_code < 300:\n",
        "        print(f\"Update successful! for id: {app_localization_id}\")\n",
        "        print(new_text)\n",
        "        print(\"---------------\")\n",
        "    else:\n",
        "        print(f\"Update failed with status code {response.status_code}.\")\n",
        "\n",
        "    return response.json()"
      ],
      "metadata": {
        "id": "Fne5m1AammG9"
      },
      "execution_count": null,
      "outputs": []
    },
    {
      "cell_type": "code",
      "source": [
        "locales_dict = {}\n",
        "\n",
        "for i in range(len(locales)):\n",
        "    locales_dict[locales[i]] = locale_ids[i]"
      ],
      "metadata": {
        "id": "_lNrTQY5moCC"
      },
      "execution_count": null,
      "outputs": []
    },
    {
      "cell_type": "code",
      "source": [
        "for locale in locales_dict:\n",
        "    lang_id = locales_dict[locale]\n",
        "    print(f\"🌍 Starting localization for {locale} with id {lang_id}\")\n",
        "    WHATSNEW_DESCRIPTION = translate_description(locale, whats_new_desc_eng)\n",
        "    update_whats_new(lang_id, WHATSNEW_DESCRIPTION)"
      ],
      "metadata": {
        "id": "ZUYwA8samtmA"
      },
      "execution_count": null,
      "outputs": []
    }
  ]
}